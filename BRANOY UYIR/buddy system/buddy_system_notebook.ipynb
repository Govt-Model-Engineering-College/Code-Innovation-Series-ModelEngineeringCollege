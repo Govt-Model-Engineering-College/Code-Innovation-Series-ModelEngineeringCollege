{
 "cells": [
  {
   "cell_type": "code",
   "execution_count": 31,
   "metadata": {},
   "outputs": [],
   "source": [
    "from sklearn.metrics.pairwise import linear_kernel\n",
    "from sklearn.feature_extraction.text import TfidfVectorizer\n",
    "import pandas as pd\n",
    "import matplotlib.pyplot as plt"
   ]
  },
  {
   "cell_type": "code",
   "execution_count": 49,
   "metadata": {},
   "outputs": [],
   "source": [
    "df2 = pd.read_csv(r'C:\\Users\\Vinayak Sidharth\\Documents\\Movie_Recomend/tmdb_5000_movies.csv')\n",
    "\n",
    "#CHANGING THE MOVIE NAMES TO NO_{} VALUES\n",
    "\n",
    "df2['title2'] = df2['title']\n",
    "no = []\n",
    "for i in df2.index.values:\n",
    "    no.append('no_{}'.format(i))\n",
    "df2['title'] = no\n",
    "df2 = df2.head(200)"
   ]
  },
  {
   "cell_type": "code",
   "execution_count": 50,
   "metadata": {},
   "outputs": [],
   "source": [
    "def conv_dic(arr):\n",
    "    uu = {}\n",
    "    co = {}\n",
    "    for i,val in enumerate(arr):\n",
    "        uu[val] = i \n",
    "        co[i] = val\n",
    "    return uu,co"
   ]
  },
  {
   "cell_type": "code",
   "execution_count": 51,
   "metadata": {},
   "outputs": [],
   "source": [
    "def get_rec(title, cosine_sim,uu,co):\n",
    "    pp = pd.DataFrame()\n",
    "    pp['score'] = cosine_sim[uu[title]]\n",
    "    pp = pp.sort_values(by = 'score', ascending = False)\n",
    "    ind = pp[1:].index\n",
    "    final = []\n",
    "    \n",
    "    for i in ind:\n",
    "        final.append(co[i])\n",
    "    return final[0]\n",
    "        \n",
    "    "
   ]
  },
  {
   "cell_type": "code",
   "execution_count": 52,
   "metadata": {},
   "outputs": [],
   "source": [
    "def make_arr(dff):\n",
    "    club = []\n",
    "    tit = dff['title'].values\n",
    "    uu,co = conv_dic(dff['title'].values)\n",
    "    tit = list(tit)\n",
    "    for t in tit:\n",
    "        if t in dff['title'].values:\n",
    "            tfidf = TfidfVectorizer(stop_words = 'english')\n",
    "            tfidf_matrix = tfidf.fit_transform(dff['overview'])\n",
    "            cosine_sim = linear_kernel(tfidf_matrix, tfidf_matrix)\n",
    "\n",
    "            y=  get_rec(t,cosine_sim,uu,co)\n",
    "            z = get_rec(y,cosine_sim,uu,co)\n",
    "            if z ==t:\n",
    "                club.append([t,y])\n",
    "                dff.drop(dff.loc[dff['title']==y].index, inplace = True)\n",
    "                dff.drop(dff.loc[dff['title']==t].index, inplace = True)\n",
    "                uu,co = conv_dic(dff['title'].values)\n",
    "\n",
    "            else:\n",
    "                club.append([t,y,z])\n",
    "\n",
    "                dff.drop(dff.loc[dff['title']==y].index, inplace = True)\n",
    "                dff.drop(dff.loc[dff['title']==z].index, inplace = True)\n",
    "                dff.drop(dff.loc[dff['title']==t].index, inplace = True)        \n",
    "                uu,co = conv_dic(dff['title'].values)\n",
    "                \n",
    "            if len(dff)==1:\n",
    "                break\n",
    "        \n",
    "    gr = pd.DataFrame()\n",
    "    gr['group'] = club\n",
    "    \n",
    "    #saving df\n",
    "    gr.to_csv(r\"C:\\Users\\Vinayak Sidharth\\Documents/grouped_df.csv\")\n",
    "        \n",
    "\n",
    "\n",
    "    return dff,club,gr"
   ]
  },
  {
   "cell_type": "code",
   "execution_count": 53,
   "metadata": {},
   "outputs": [],
   "source": [
    "#REST = REMANING DF(NOT GROUPED)\n",
    "#AR_GR = GROUPED ARRAY\n",
    "#GR = GROUPED DF\n",
    "rest,ar_gr,gr = make_arr(df2.copy())"
   ]
  },
  {
   "cell_type": "code",
   "execution_count": null,
   "metadata": {},
   "outputs": [],
   "source": []
  },
  {
   "cell_type": "code",
   "execution_count": 54,
   "metadata": {},
   "outputs": [],
   "source": [
    "def extract_gp(no,arr):\n",
    "    for i in range(len(arr)):\n",
    "        if no in arr[i]:\n",
    "            return arr[i]            "
   ]
  },
  {
   "cell_type": "code",
   "execution_count": 55,
   "metadata": {},
   "outputs": [
    {
     "data": {
      "text/plain": [
       "['no_13', 'no_42', 'no_160']"
      ]
     },
     "execution_count": 55,
     "metadata": {},
     "output_type": "execute_result"
    }
   ],
   "source": [
    "extract_gp('no_13',ar_gr)"
   ]
  },
  {
   "cell_type": "code",
   "execution_count": 56,
   "metadata": {},
   "outputs": [
    {
     "data": {
      "text/html": [
       "<div>\n",
       "<style scoped>\n",
       "    .dataframe tbody tr th:only-of-type {\n",
       "        vertical-align: middle;\n",
       "    }\n",
       "\n",
       "    .dataframe tbody tr th {\n",
       "        vertical-align: top;\n",
       "    }\n",
       "\n",
       "    .dataframe thead th {\n",
       "        text-align: right;\n",
       "    }\n",
       "</style>\n",
       "<table border=\"1\" class=\"dataframe\">\n",
       "  <thead>\n",
       "    <tr style=\"text-align: right;\">\n",
       "      <th></th>\n",
       "      <th>group</th>\n",
       "    </tr>\n",
       "  </thead>\n",
       "  <tbody>\n",
       "    <tr>\n",
       "      <th>0</th>\n",
       "      <td>[no_0, no_151]</td>\n",
       "    </tr>\n",
       "    <tr>\n",
       "      <th>1</th>\n",
       "      <td>[no_1, no_109, no_15]</td>\n",
       "    </tr>\n",
       "    <tr>\n",
       "      <th>2</th>\n",
       "      <td>[no_2, no_11]</td>\n",
       "    </tr>\n",
       "    <tr>\n",
       "      <th>3</th>\n",
       "      <td>[no_3, no_65]</td>\n",
       "    </tr>\n",
       "    <tr>\n",
       "      <th>4</th>\n",
       "      <td>[no_4, no_46, no_108]</td>\n",
       "    </tr>\n",
       "    <tr>\n",
       "      <th>...</th>\n",
       "      <td>...</td>\n",
       "    </tr>\n",
       "    <tr>\n",
       "      <th>74</th>\n",
       "      <td>[no_135, no_198, no_166]</td>\n",
       "    </tr>\n",
       "    <tr>\n",
       "      <th>75</th>\n",
       "      <td>[no_148, no_175, no_152]</td>\n",
       "    </tr>\n",
       "    <tr>\n",
       "      <th>76</th>\n",
       "      <td>[no_155, no_163, no_180]</td>\n",
       "    </tr>\n",
       "    <tr>\n",
       "      <th>77</th>\n",
       "      <td>[no_157, no_176, no_187]</td>\n",
       "    </tr>\n",
       "    <tr>\n",
       "      <th>78</th>\n",
       "      <td>[no_184, no_188]</td>\n",
       "    </tr>\n",
       "  </tbody>\n",
       "</table>\n",
       "<p>79 rows × 1 columns</p>\n",
       "</div>"
      ],
      "text/plain": [
       "                       group\n",
       "0             [no_0, no_151]\n",
       "1      [no_1, no_109, no_15]\n",
       "2              [no_2, no_11]\n",
       "3              [no_3, no_65]\n",
       "4      [no_4, no_46, no_108]\n",
       "..                       ...\n",
       "74  [no_135, no_198, no_166]\n",
       "75  [no_148, no_175, no_152]\n",
       "76  [no_155, no_163, no_180]\n",
       "77  [no_157, no_176, no_187]\n",
       "78          [no_184, no_188]\n",
       "\n",
       "[79 rows x 1 columns]"
      ]
     },
     "execution_count": 56,
     "metadata": {},
     "output_type": "execute_result"
    }
   ],
   "source": [
    "gr"
   ]
  },
  {
   "cell_type": "code",
   "execution_count": null,
   "metadata": {},
   "outputs": [],
   "source": []
  }
 ],
 "metadata": {
  "kernelspec": {
   "display_name": "Python 3",
   "language": "python",
   "name": "python3"
  },
  "language_info": {
   "codemirror_mode": {
    "name": "ipython",
    "version": 3
   },
   "file_extension": ".py",
   "mimetype": "text/x-python",
   "name": "python",
   "nbconvert_exporter": "python",
   "pygments_lexer": "ipython3",
   "version": "3.7.7"
  }
 },
 "nbformat": 4,
 "nbformat_minor": 4
}
